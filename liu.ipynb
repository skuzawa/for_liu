{
  "nbformat": 4,
  "nbformat_minor": 0,
  "metadata": {
    "colab": {
      "provenance": []
    },
    "kernelspec": {
      "name": "python3",
      "display_name": "Python 3"
    },
    "language_info": {
      "name": "python"
    }
  },
  "cells": [
    {
      "cell_type": "code",
      "execution_count": 66,
      "metadata": {
        "id": "jMeV0EtLBAyc"
      },
      "outputs": [],
      "source": [
        "import numpy as np\n",
        "import csv\n",
        "import pandas as pd"
      ]
    },
    {
      "cell_type": "code",
      "source": [
        "df = pd.read_csv('/content/sample.csv')"
      ],
      "metadata": {
        "id": "GOViH8XvEHe9"
      },
      "execution_count": 67,
      "outputs": []
    },
    {
      "cell_type": "markdown",
      "source": [
        "df_y<-売上高"
      ],
      "metadata": {
        "id": "yvsx1OBKJvSi"
      }
    },
    {
      "cell_type": "code",
      "source": [
        "df_y = df[\"sales\"]"
      ],
      "metadata": {
        "id": "aVDajMHSECIP"
      },
      "execution_count": 68,
      "outputs": []
    },
    {
      "cell_type": "markdown",
      "source": [
        "# y完成"
      ],
      "metadata": {
        "id": "9Mp5HhWKP9_q"
      }
    },
    {
      "cell_type": "code",
      "source": [
        "y = df_y.values"
      ],
      "metadata": {
        "id": "ultKLKNqIoRI"
      },
      "execution_count": 69,
      "outputs": []
    },
    {
      "cell_type": "markdown",
      "source": [
        "# weatherをダミー変数に"
      ],
      "metadata": {
        "id": "QTOhxb9LJzOV"
      }
    },
    {
      "cell_type": "code",
      "source": [
        "df_dum = pd.get_dummies(df.weather)"
      ],
      "metadata": {
        "id": "VYgTvK2kCRMr"
      },
      "execution_count": 70,
      "outputs": []
    },
    {
      "cell_type": "code",
      "source": [
        "df = df.drop([\"date\",\"sales\",\"weather\"],axis=1)"
      ],
      "metadata": {
        "id": "VMEpORmdG-jC"
      },
      "execution_count": 71,
      "outputs": []
    },
    {
      "cell_type": "code",
      "source": [
        "df_A = pd.concat([df,df_dum],axis=1)"
      ],
      "metadata": {
        "id": "0UXi2_-kHIVp"
      },
      "execution_count": 72,
      "outputs": []
    },
    {
      "cell_type": "markdown",
      "source": [
        "# 行列A完成"
      ],
      "metadata": {
        "id": "0UWZ2jVmKCEU"
      }
    },
    {
      "cell_type": "code",
      "source": [
        "A = df_A.values"
      ],
      "metadata": {
        "id": "0hIk21TJEQYS"
      },
      "execution_count": 73,
      "outputs": []
    },
    {
      "cell_type": "markdown",
      "source": [
        "# 11行目から欠損値あるため最初の10行で実験"
      ],
      "metadata": {
        "id": "tfvdPG6lPs4U"
      }
    },
    {
      "cell_type": "code",
      "source": [
        "A_10 = A[:10]\n",
        "y_10 = y[:10]"
      ],
      "metadata": {
        "id": "CVPeB_9MKIhW"
      },
      "execution_count": 74,
      "outputs": []
    },
    {
      "cell_type": "code",
      "source": [
        "x_10 = (np.linalg.inv(A_10.T@A_10)@A_10.T)@y_10"
      ],
      "metadata": {
        "id": "HfdGTrmzMoOw"
      },
      "execution_count": 75,
      "outputs": []
    },
    {
      "cell_type": "code",
      "source": [
        "print(x_10)"
      ],
      "metadata": {
        "colab": {
          "base_uri": "https://localhost:8080/"
        },
        "id": "HJsAvvarNlCK",
        "outputId": "740d79d8-de39-4f45-dce1-f8c53488d67f"
      },
      "execution_count": 76,
      "outputs": [
        {
          "output_type": "stream",
          "name": "stdout",
          "text": [
            "[ 5.14479628e+03  4.19360349e+02  1.03401035e+00  1.03773380e+04\n",
            "  5.14770099e+03  9.82257297e+01 -2.03330255e+03]\n"
          ]
        }
      ]
    }
  ]
}